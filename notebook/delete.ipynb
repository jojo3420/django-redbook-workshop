{
 "cells": [
  {
   "cell_type": "code",
   "execution_count": null,
   "metadata": {
    "collapsed": true
   },
   "outputs": [],
   "source": [
    "from polls.models import Question, Choice\n",
    "from django.utils import timezone \n",
    "\n",
    "new_q = Question(question_text='hello world', pub_date=timezone.now())\n",
    "\n",
    "# Quesiton 생성자 호출로 생성했으면 메모리에만 생성되었고 DB에는 저장이 안되었다!\n",
    "new_q.save()\n",
    "\n",
    "\n",
    "# 모든문장 삭제 "
   ]
  }
 ],
 "metadata": {
  "language_info": {
   "codemirror_mode": {
    "name": "ipython",
    "version": 2
   },
   "file_extension": ".py",
   "mimetype": "text/x-python",
   "name": "python",
   "nbconvert_exporter": "python",
   "pygments_lexer": "ipython2",
   "version": "2.7.6"
  },
  "kernelspec": {
   "name": "python3",
   "language": "python",
   "display_name": "Python 3"
  },
  "pycharm": {
   "stem_cell": {
    "cell_type": "raw",
    "source": [],
    "metadata": {
     "collapsed": false
    }
   }
  }
 },
 "nbformat": 4,
 "nbformat_minor": 0
}