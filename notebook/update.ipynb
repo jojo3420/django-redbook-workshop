{
 "cells": [
  {
   "cell_type": "code",
   "execution_count": null,
   "metadata": {
    "collapsed": true
   },
   "outputs": [],
   "source": [
    "from polls.models import Question, Choice\n",
    "\n",
    "# 이미 존재하는 객체에 대한 필드값 수정하는 경우에도 필드 속성값을 수정한후 .save() 메서드 호출하면된다. \n",
    "q = Question.objects.get(pk=1)\n",
    "\n",
    "q.question_text = \"What's New?\"\n",
    "q.save()\n",
    "\n",
    "\n",
    "# 여러 개의 객체를 한꺼번에 수정 - update() \n",
    "q_list = Question.objects.all()\n",
    "q_list.update(question_text='Everything is the same..')\n",
    "\n",
    "# 결과 q_list 의 question_text 가 모두 동일하게 변경됨\n",
    "# <QuerySet [<Question: Everything is the same..>, <Question: Everything is the same..>]>"
   ]
  }
 ],
 "metadata": {
  "language_info": {
   "codemirror_mode": {
    "name": "ipython",
    "version": 2
   },
   "file_extension": ".py",
   "mimetype": "text/x-python",
   "name": "python",
   "nbconvert_exporter": "python",
   "pygments_lexer": "ipython2",
   "version": "2.7.6"
  },
  "kernelspec": {
   "name": "python3",
   "language": "python",
   "display_name": "Python 3"
  },
  "pycharm": {
   "stem_cell": {
    "cell_type": "raw",
    "source": [],
    "metadata": {
     "collapsed": false
    }
   }
  }
 },
 "nbformat": 4,
 "nbformat_minor": 0
}